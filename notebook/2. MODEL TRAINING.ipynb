{
 "cells": [
  {
   "cell_type": "code",
   "execution_count": 1,
   "id": "439dfb1f",
   "metadata": {},
   "outputs": [],
   "source": [
    "# basic imports\n",
    "import numpy as np\n",
    "import pandas as pd\n",
    "import seaborn as sns\n",
    "import matplotlib.pyplot as plt\n",
    "\n",
    "%matplotlib inline\n",
    "\n",
    "# preprocessing imports\n",
    "from sklearn.compose import ColumnTransformer\n",
    "from sklearn.pipeline import Pipeline\n",
    "from sklearn.preprocessing import StandardScaler, OneHotEncoder\n",
    "\n",
    "# evaluation imports\n",
    "from sklearn.metrics import mean_squared_error, mean_absolute_error, r2_score\n",
    "from sklearn.model_selection import train_test_split, RandomizedSearchCV\n",
    "\n",
    "\n",
    "# modeling imports\n",
    "from sklearn.neighbors import KNeighborsRegressor\n",
    "from sklearn.ensemble import RandomForestRegressor, AdaBoostRegressor\n",
    "from sklearn.linear_model import LinearRegression, Ridge, Lasso\n",
    "from sklearn.svm import SVR\n",
    "from sklearn.tree import DecisionTreeRegressor\n",
    "import xgboost as xgb\n",
    "from catboost import CatBoostRegressor"
   ]
  },
  {
   "cell_type": "markdown",
   "id": "94b32733",
   "metadata": {},
   "source": [
    "# Data Prep"
   ]
  },
  {
   "cell_type": "code",
   "execution_count": 2,
   "id": "3123188e",
   "metadata": {},
   "outputs": [
    {
     "data": {
      "application/vnd.microsoft.datawrangler.viewer.v0+json": {
       "columns": [
        {
         "name": "index",
         "rawType": "int64",
         "type": "integer"
        },
        {
         "name": "gender",
         "rawType": "object",
         "type": "string"
        },
        {
         "name": "race_ethnicity",
         "rawType": "object",
         "type": "string"
        },
        {
         "name": "parental_level_of_education",
         "rawType": "object",
         "type": "string"
        },
        {
         "name": "lunch",
         "rawType": "object",
         "type": "string"
        },
        {
         "name": "test_preparation_course",
         "rawType": "object",
         "type": "string"
        },
        {
         "name": "math_score",
         "rawType": "int64",
         "type": "integer"
        },
        {
         "name": "reading_score",
         "rawType": "int64",
         "type": "integer"
        },
        {
         "name": "writing_score",
         "rawType": "int64",
         "type": "integer"
        }
       ],
       "ref": "4279384e-e8c5-40a1-a08e-049524b39f96",
       "rows": [
        [
         "0",
         "female",
         "group B",
         "bachelor's degree",
         "standard",
         "none",
         "72",
         "72",
         "74"
        ],
        [
         "1",
         "female",
         "group C",
         "some college",
         "standard",
         "completed",
         "69",
         "90",
         "88"
        ],
        [
         "2",
         "female",
         "group B",
         "master's degree",
         "standard",
         "none",
         "90",
         "95",
         "93"
        ],
        [
         "3",
         "male",
         "group A",
         "associate's degree",
         "free/reduced",
         "none",
         "47",
         "57",
         "44"
        ],
        [
         "4",
         "male",
         "group C",
         "some college",
         "standard",
         "none",
         "76",
         "78",
         "75"
        ]
       ],
       "shape": {
        "columns": 8,
        "rows": 5
       }
      },
      "text/html": [
       "<div>\n",
       "<style scoped>\n",
       "    .dataframe tbody tr th:only-of-type {\n",
       "        vertical-align: middle;\n",
       "    }\n",
       "\n",
       "    .dataframe tbody tr th {\n",
       "        vertical-align: top;\n",
       "    }\n",
       "\n",
       "    .dataframe thead th {\n",
       "        text-align: right;\n",
       "    }\n",
       "</style>\n",
       "<table border=\"1\" class=\"dataframe\">\n",
       "  <thead>\n",
       "    <tr style=\"text-align: right;\">\n",
       "      <th></th>\n",
       "      <th>gender</th>\n",
       "      <th>race_ethnicity</th>\n",
       "      <th>parental_level_of_education</th>\n",
       "      <th>lunch</th>\n",
       "      <th>test_preparation_course</th>\n",
       "      <th>math_score</th>\n",
       "      <th>reading_score</th>\n",
       "      <th>writing_score</th>\n",
       "    </tr>\n",
       "  </thead>\n",
       "  <tbody>\n",
       "    <tr>\n",
       "      <th>0</th>\n",
       "      <td>female</td>\n",
       "      <td>group B</td>\n",
       "      <td>bachelor's degree</td>\n",
       "      <td>standard</td>\n",
       "      <td>none</td>\n",
       "      <td>72</td>\n",
       "      <td>72</td>\n",
       "      <td>74</td>\n",
       "    </tr>\n",
       "    <tr>\n",
       "      <th>1</th>\n",
       "      <td>female</td>\n",
       "      <td>group C</td>\n",
       "      <td>some college</td>\n",
       "      <td>standard</td>\n",
       "      <td>completed</td>\n",
       "      <td>69</td>\n",
       "      <td>90</td>\n",
       "      <td>88</td>\n",
       "    </tr>\n",
       "    <tr>\n",
       "      <th>2</th>\n",
       "      <td>female</td>\n",
       "      <td>group B</td>\n",
       "      <td>master's degree</td>\n",
       "      <td>standard</td>\n",
       "      <td>none</td>\n",
       "      <td>90</td>\n",
       "      <td>95</td>\n",
       "      <td>93</td>\n",
       "    </tr>\n",
       "    <tr>\n",
       "      <th>3</th>\n",
       "      <td>male</td>\n",
       "      <td>group A</td>\n",
       "      <td>associate's degree</td>\n",
       "      <td>free/reduced</td>\n",
       "      <td>none</td>\n",
       "      <td>47</td>\n",
       "      <td>57</td>\n",
       "      <td>44</td>\n",
       "    </tr>\n",
       "    <tr>\n",
       "      <th>4</th>\n",
       "      <td>male</td>\n",
       "      <td>group C</td>\n",
       "      <td>some college</td>\n",
       "      <td>standard</td>\n",
       "      <td>none</td>\n",
       "      <td>76</td>\n",
       "      <td>78</td>\n",
       "      <td>75</td>\n",
       "    </tr>\n",
       "  </tbody>\n",
       "</table>\n",
       "</div>"
      ],
      "text/plain": [
       "   gender race_ethnicity parental_level_of_education         lunch  \\\n",
       "0  female        group B           bachelor's degree      standard   \n",
       "1  female        group C                some college      standard   \n",
       "2  female        group B             master's degree      standard   \n",
       "3    male        group A          associate's degree  free/reduced   \n",
       "4    male        group C                some college      standard   \n",
       "\n",
       "  test_preparation_course  math_score  reading_score  writing_score  \n",
       "0                    none          72             72             74  \n",
       "1               completed          69             90             88  \n",
       "2                    none          90             95             93  \n",
       "3                    none          47             57             44  \n",
       "4                    none          76             78             75  "
      ]
     },
     "execution_count": 2,
     "metadata": {},
     "output_type": "execute_result"
    }
   ],
   "source": [
    "df = pd.read_csv(r\"data/stud.csv\")\n",
    "df.head()"
   ]
  },
  {
   "cell_type": "code",
   "execution_count": 3,
   "id": "894407d1",
   "metadata": {},
   "outputs": [],
   "source": [
    "X = df.drop(columns=[\"math_score\"], axis=1)\n",
    "y = df[\"math_score\"]"
   ]
  },
  {
   "cell_type": "code",
   "execution_count": 5,
   "id": "38481def",
   "metadata": {},
   "outputs": [],
   "source": [
    "numeric_features = X.select_dtypes(exclude=\"object\").columns\n",
    "categorical_features = X.select_dtypes(include=\"object\").columns"
   ]
  },
  {
   "cell_type": "code",
   "execution_count": 6,
   "id": "991346ef",
   "metadata": {},
   "outputs": [],
   "source": [
    "nummeric_transformer = StandardScaler()\n",
    "oh_transformer = OneHotEncoder()\n",
    "\n",
    "preprocessor = ColumnTransformer(\n",
    "    transformers=[\n",
    "        (\"StandardScaler\", nummeric_transformer, numeric_features),\n",
    "        (\"OneHotEncoder\", oh_transformer, categorical_features),\n",
    "    ]\n",
    ")"
   ]
  },
  {
   "cell_type": "code",
   "execution_count": null,
   "id": "bbcd8851",
   "metadata": {},
   "outputs": [
    {
     "data": {
      "text/plain": [
       "((800, 7), (200, 7), (800,), (200,))"
      ]
     },
     "execution_count": 7,
     "metadata": {},
     "output_type": "execute_result"
    }
   ],
   "source": [
    "X_train, X_test, y_train, y_test = train_test_split(\n",
    "    X, y, test_size=0.2, random_state=42\n",
    ")\n",
    "X_train.shape, X_test.shape, y_train.shape, y_test.shape"
   ]
  },
  {
   "cell_type": "code",
   "execution_count": 9,
   "id": "8f2e466d",
   "metadata": {},
   "outputs": [
    {
     "data": {
      "text/plain": [
       "((800, 19), (200, 19))"
      ]
     },
     "execution_count": 9,
     "metadata": {},
     "output_type": "execute_result"
    }
   ],
   "source": [
    "preprocessor.fit(X_train)\n",
    "X_train_transformed = preprocessor.transform(X_train)\n",
    "X_test_transformed = preprocessor.transform(X_test)\n",
    "X_train_transformed.shape, X_test_transformed.shape"
   ]
  },
  {
   "cell_type": "markdown",
   "id": "62bcb847",
   "metadata": {},
   "source": [
    "# Modeling & Evaluation"
   ]
  },
  {
   "cell_type": "code",
   "execution_count": 12,
   "id": "efb230eb",
   "metadata": {},
   "outputs": [],
   "source": [
    "def evaluate(true, predicted):\n",
    "    mae = mean_absolute_error(true, predicted)\n",
    "    mse = mean_squared_error(true, predicted)\n",
    "    rmse = np.sqrt(mean_squared_error(true, predicted))\n",
    "    r2_square = r2_score(true, predicted)\n",
    "    return mae, rmse, r2_square"
   ]
  },
  {
   "cell_type": "code",
   "execution_count": 13,
   "id": "ea759bab",
   "metadata": {},
   "outputs": [],
   "source": [
    "models = {\n",
    "    \"Linear Regression\": LinearRegression(),\n",
    "    \"Ridge\": Ridge(),\n",
    "    \"Lasso\": Lasso(),\n",
    "    \"KNeighbors Regressor\": KNeighborsRegressor(),\n",
    "    \"Decision Tree Regressor\": DecisionTreeRegressor(),\n",
    "    \"Random Forest Regressor\": RandomForestRegressor(),\n",
    "    \"AdaBoost Regressor\": AdaBoostRegressor(),\n",
    "    \"XGB Regressor\": xgb.XGBRegressor(),\n",
    "    \"CatBoost Regressor\": CatBoostRegressor(verbose=False),\n",
    "    \"SVR\": SVR(),\n",
    "}"
   ]
  },
  {
   "cell_type": "code",
   "execution_count": 14,
   "id": "489b7de6",
   "metadata": {},
   "outputs": [
    {
     "name": "stdout",
     "output_type": "stream",
     "text": [
      "Linear Regression\n",
      "Model performance on Training set\n",
      "- RMSE: 5.3231\n",
      "- R2 Score: 0.8743\n",
      "- MAE: 4.2667\n",
      "------------------------------\n",
      "Model performance on Test set\n",
      "- RMSE: 5.3940\n",
      "- R2 Score: 0.8804\n",
      "- MAE: 4.2148\n",
      "==============================\n",
      "\n",
      "\n",
      "Ridge\n",
      "Model performance on Training set\n",
      "- RMSE: 5.3233\n",
      "- R2 Score: 0.8743\n",
      "- MAE: 4.2650\n",
      "------------------------------\n",
      "Model performance on Test set\n",
      "- RMSE: 5.3904\n",
      "- R2 Score: 0.8806\n",
      "- MAE: 4.2111\n",
      "==============================\n",
      "\n",
      "\n",
      "Lasso\n",
      "Model performance on Training set\n",
      "- RMSE: 6.5925\n",
      "- R2 Score: 0.8072\n",
      "- MAE: 5.2053\n",
      "------------------------------\n",
      "Model performance on Test set\n",
      "- RMSE: 6.5173\n",
      "- R2 Score: 0.8254\n",
      "- MAE: 5.1557\n",
      "==============================\n",
      "\n",
      "\n",
      "KNeighbors Regressor\n",
      "Model performance on Training set\n",
      "- RMSE: 5.6991\n",
      "- R2 Score: 0.8559\n",
      "- MAE: 4.5083\n",
      "------------------------------\n",
      "Model performance on Test set\n",
      "- RMSE: 7.2506\n",
      "- R2 Score: 0.7840\n",
      "- MAE: 5.5990\n",
      "==============================\n",
      "\n",
      "\n",
      "Decision Tree Regressor\n",
      "Model performance on Training set\n",
      "- RMSE: 0.2795\n",
      "- R2 Score: 0.9997\n",
      "- MAE: 0.0187\n",
      "------------------------------\n",
      "Model performance on Test set\n",
      "- RMSE: 7.4950\n",
      "- R2 Score: 0.7691\n",
      "- MAE: 5.9450\n",
      "==============================\n",
      "\n",
      "\n",
      "Random Forest Regressor\n",
      "Model performance on Training set\n",
      "- RMSE: 2.3023\n",
      "- R2 Score: 0.9765\n",
      "- MAE: 1.8320\n",
      "------------------------------\n",
      "Model performance on Test set\n",
      "- RMSE: 5.8901\n",
      "- R2 Score: 0.8574\n",
      "- MAE: 4.5664\n",
      "==============================\n",
      "\n",
      "\n",
      "AdaBoost Regressor\n",
      "Model performance on Training set\n",
      "- RMSE: 5.8316\n",
      "- R2 Score: 0.8492\n",
      "- MAE: 4.8001\n",
      "------------------------------\n",
      "Model performance on Test set\n",
      "- RMSE: 6.1174\n",
      "- R2 Score: 0.8462\n",
      "- MAE: 4.7596\n",
      "==============================\n",
      "\n",
      "\n",
      "XGB Regressor\n",
      "Model performance on Training set\n",
      "- RMSE: 1.0073\n",
      "- R2 Score: 0.9955\n",
      "- MAE: 0.6875\n",
      "------------------------------\n",
      "Model performance on Test set\n",
      "- RMSE: 6.5958\n",
      "- R2 Score: 0.8212\n",
      "- MAE: 5.1036\n",
      "==============================\n",
      "\n",
      "\n",
      "CatBoost Regressor\n",
      "Model performance on Training set\n",
      "- RMSE: 3.0427\n",
      "- R2 Score: 0.9589\n",
      "- MAE: 2.4054\n",
      "------------------------------\n",
      "Model performance on Test set\n",
      "- RMSE: 6.0046\n",
      "- R2 Score: 0.8518\n",
      "- MAE: 4.6088\n",
      "==============================\n",
      "\n",
      "\n",
      "SVR\n",
      "Model performance on Training set\n",
      "- RMSE: 6.5721\n",
      "- R2 Score: 0.8084\n",
      "- MAE: 4.8663\n",
      "------------------------------\n",
      "Model performance on Test set\n",
      "- RMSE: 8.1191\n",
      "- R2 Score: 0.7291\n",
      "- MAE: 5.3951\n",
      "==============================\n",
      "\n",
      "\n"
     ]
    }
   ],
   "source": [
    "model_list = []\n",
    "r2_list = []\n",
    "rmse_list = []\n",
    "mae_list = []\n",
    "\n",
    "for i in range(len(models)):\n",
    "    model = list(models.values())[i]\n",
    "    model.fit(X_train_transformed, y_train)  # train the model\n",
    "\n",
    "    # make predictions\n",
    "    y_train_pred = model.predict(X_train_transformed)\n",
    "    y_test_pred = model.predict(X_test_transformed)\n",
    "\n",
    "    # Evaluate\n",
    "    model_train_mae, model_train_rmse, model_train_r2 = evaluate(y_train, y_train_pred)\n",
    "    model_test_mae, model_test_rmse, model_test_r2 = evaluate(y_test, y_test_pred)\n",
    "\n",
    "    model_list.append(list(models.keys())[i])\n",
    "    print(list(models.keys())[i])\n",
    "\n",
    "    print(\"Model performance on Training set\")\n",
    "    print(\"- RMSE: {:.4f}\".format(model_train_rmse))\n",
    "    print(\"- R2 Score: {:.4f}\".format(model_train_r2))\n",
    "    print(\"- MAE: {:.4f}\".format(model_train_mae))\n",
    "\n",
    "    print(\"-\" * 30)\n",
    "\n",
    "    print(\"Model performance on Test set\")\n",
    "    print(\"- RMSE: {:.4f}\".format(model_test_rmse))\n",
    "    print(\"- R2 Score: {:.4f}\".format(model_test_r2))\n",
    "    print(\"- MAE: {:.4f}\".format(model_test_mae))\n",
    "    r2_list.append(model_test_r2)\n",
    "    rmse_list.append(model_test_rmse)\n",
    "    mae_list.append(model_test_mae)\n",
    "\n",
    "    print(\"=\" * 30)\n",
    "    print(\"\\n\")"
   ]
  },
  {
   "cell_type": "markdown",
   "id": "d2c5ec9b",
   "metadata": {},
   "source": [
    "# Model Selection"
   ]
  },
  {
   "cell_type": "code",
   "execution_count": 15,
   "id": "e2542240",
   "metadata": {},
   "outputs": [
    {
     "data": {
      "application/vnd.microsoft.datawrangler.viewer.v0+json": {
       "columns": [
        {
         "name": "index",
         "rawType": "int64",
         "type": "integer"
        },
        {
         "name": "Model",
         "rawType": "object",
         "type": "string"
        },
        {
         "name": "R2",
         "rawType": "float64",
         "type": "float"
        },
        {
         "name": "RMSE",
         "rawType": "float64",
         "type": "float"
        },
        {
         "name": "MAE",
         "rawType": "float64",
         "type": "float"
        }
       ],
       "ref": "4425a4c3-7486-4b42-9023-82ce6a37d7ef",
       "rows": [
        [
         "0",
         "Linear Regression",
         "0.8804332983749565",
         "5.393993869732841",
         "4.21476314247485"
        ],
        [
         "1",
         "Ridge",
         "0.8805917946912825",
         "5.390417574427312",
         "4.211112826071164"
        ],
        [
         "2",
         "Lasso",
         "0.8254465092551198",
         "6.517328221922997",
         "5.155701094273798"
        ],
        [
         "3",
         "KNeighbors Regressor",
         "0.7839576491010051",
         "7.2506137671234425",
         "5.599"
        ],
        [
         "4",
         "Decision Tree Regressor",
         "0.7691486423844325",
         "7.494998332221296",
         "5.945"
        ],
        [
         "5",
         "Random Forest Regressor",
         "0.8574288734022949",
         "5.89007893261907",
         "4.566394047619048"
        ],
        [
         "6",
         "AdaBoost Regressor",
         "0.8462094417569666",
         "6.1174462300838055",
         "4.75961756627891"
        ],
        [
         "7",
         "XGB Regressor",
         "0.8212204901494256",
         "6.595750137764697",
         "5.103629446029663"
        ],
        [
         "8",
         "CatBoost Regressor",
         "0.8518305378322716",
         "6.004608218090134",
         "4.608757793199379"
        ],
        [
         "9",
         "SVR",
         "0.7291049050133184",
         "8.119062691093545",
         "5.395143081287261"
        ]
       ],
       "shape": {
        "columns": 4,
        "rows": 10
       }
      },
      "text/html": [
       "<div>\n",
       "<style scoped>\n",
       "    .dataframe tbody tr th:only-of-type {\n",
       "        vertical-align: middle;\n",
       "    }\n",
       "\n",
       "    .dataframe tbody tr th {\n",
       "        vertical-align: top;\n",
       "    }\n",
       "\n",
       "    .dataframe thead th {\n",
       "        text-align: right;\n",
       "    }\n",
       "</style>\n",
       "<table border=\"1\" class=\"dataframe\">\n",
       "  <thead>\n",
       "    <tr style=\"text-align: right;\">\n",
       "      <th></th>\n",
       "      <th>Model</th>\n",
       "      <th>R2</th>\n",
       "      <th>RMSE</th>\n",
       "      <th>MAE</th>\n",
       "    </tr>\n",
       "  </thead>\n",
       "  <tbody>\n",
       "    <tr>\n",
       "      <th>0</th>\n",
       "      <td>Linear Regression</td>\n",
       "      <td>0.880433</td>\n",
       "      <td>5.393994</td>\n",
       "      <td>4.214763</td>\n",
       "    </tr>\n",
       "    <tr>\n",
       "      <th>1</th>\n",
       "      <td>Ridge</td>\n",
       "      <td>0.880592</td>\n",
       "      <td>5.390418</td>\n",
       "      <td>4.211113</td>\n",
       "    </tr>\n",
       "    <tr>\n",
       "      <th>2</th>\n",
       "      <td>Lasso</td>\n",
       "      <td>0.825447</td>\n",
       "      <td>6.517328</td>\n",
       "      <td>5.155701</td>\n",
       "    </tr>\n",
       "    <tr>\n",
       "      <th>3</th>\n",
       "      <td>KNeighbors Regressor</td>\n",
       "      <td>0.783958</td>\n",
       "      <td>7.250614</td>\n",
       "      <td>5.599000</td>\n",
       "    </tr>\n",
       "    <tr>\n",
       "      <th>4</th>\n",
       "      <td>Decision Tree Regressor</td>\n",
       "      <td>0.769149</td>\n",
       "      <td>7.494998</td>\n",
       "      <td>5.945000</td>\n",
       "    </tr>\n",
       "    <tr>\n",
       "      <th>5</th>\n",
       "      <td>Random Forest Regressor</td>\n",
       "      <td>0.857429</td>\n",
       "      <td>5.890079</td>\n",
       "      <td>4.566394</td>\n",
       "    </tr>\n",
       "    <tr>\n",
       "      <th>6</th>\n",
       "      <td>AdaBoost Regressor</td>\n",
       "      <td>0.846209</td>\n",
       "      <td>6.117446</td>\n",
       "      <td>4.759618</td>\n",
       "    </tr>\n",
       "    <tr>\n",
       "      <th>7</th>\n",
       "      <td>XGB Regressor</td>\n",
       "      <td>0.821220</td>\n",
       "      <td>6.595750</td>\n",
       "      <td>5.103629</td>\n",
       "    </tr>\n",
       "    <tr>\n",
       "      <th>8</th>\n",
       "      <td>CatBoost Regressor</td>\n",
       "      <td>0.851831</td>\n",
       "      <td>6.004608</td>\n",
       "      <td>4.608758</td>\n",
       "    </tr>\n",
       "    <tr>\n",
       "      <th>9</th>\n",
       "      <td>SVR</td>\n",
       "      <td>0.729105</td>\n",
       "      <td>8.119063</td>\n",
       "      <td>5.395143</td>\n",
       "    </tr>\n",
       "  </tbody>\n",
       "</table>\n",
       "</div>"
      ],
      "text/plain": [
       "                     Model        R2      RMSE       MAE\n",
       "0        Linear Regression  0.880433  5.393994  4.214763\n",
       "1                    Ridge  0.880592  5.390418  4.211113\n",
       "2                    Lasso  0.825447  6.517328  5.155701\n",
       "3     KNeighbors Regressor  0.783958  7.250614  5.599000\n",
       "4  Decision Tree Regressor  0.769149  7.494998  5.945000\n",
       "5  Random Forest Regressor  0.857429  5.890079  4.566394\n",
       "6       AdaBoost Regressor  0.846209  6.117446  4.759618\n",
       "7            XGB Regressor  0.821220  6.595750  5.103629\n",
       "8       CatBoost Regressor  0.851831  6.004608  4.608758\n",
       "9                      SVR  0.729105  8.119063  5.395143"
      ]
     },
     "execution_count": 15,
     "metadata": {},
     "output_type": "execute_result"
    }
   ],
   "source": [
    "pd.DataFrame({\"Model\": model_list, \"R2\": r2_list, \"RMSE\": rmse_list, \"MAE\": mae_list})"
   ]
  },
  {
   "cell_type": "code",
   "execution_count": 16,
   "id": "13c69881",
   "metadata": {},
   "outputs": [
    {
     "name": "stdout",
     "output_type": "stream",
     "text": [
      "training R2 score:  0.8743172040139593\n",
      "test R2 score:  0.8804332983749565\n"
     ]
    }
   ],
   "source": [
    "lin_mod = LinearRegression(fit_intercept=True)\n",
    "lin_mod.fit(X_train_transformed, y_train)\n",
    "y_pred = lin_mod.predict(X_test_transformed)\n",
    "print(\"training R2 score: \", r2_score(y_train, lin_mod.predict(X_train_transformed)))\n",
    "print(\"test R2 score: \", r2_score(y_test, y_pred))"
   ]
  },
  {
   "cell_type": "code",
   "execution_count": 17,
   "id": "9c1c809d",
   "metadata": {},
   "outputs": [
    {
     "data": {
      "text/plain": [
       "(-5.0, 105.0, -0.7368034151660652, 98.23381495256129)"
      ]
     },
     "execution_count": 17,
     "metadata": {},
     "output_type": "execute_result"
    },
    {
     "data": {
      "image/png": "[encoded data removed]",
      "text/plain": [
       "<Figure size 640x480 with 1 Axes>"
      ]
     },
     "metadata": {},
     "output_type": "display_data"
    }
   ],
   "source": [
    "plt.scatter(y_test, y_pred)\n",
    "plt.xlabel(\"True Values\")\n",
    "plt.ylabel(\"Predictions\")\n",
    "plt.axis(\"equal\")"
   ]
  },
  {
   "cell_type": "code",
   "execution_count": 18,
   "id": "725c804c",
   "metadata": {},
   "outputs": [
    {
     "data": {
      "text/plain": [
       "(-5.0, 105.0, -0.8663893534457419, 100.95511965643449)"
      ]
     },
     "execution_count": 18,
     "metadata": {},
     "output_type": "execute_result"
    },
    {
     "data": {
      "image/png": "[encoded data removed]",
      "text/plain": [
       "<Figure size 640x480 with 1 Axes>"
      ]
     },
     "metadata": {},
     "output_type": "display_data"
    }
   ],
   "source": [
    "sns.regplot(x=y_test, y=y_pred, ci=None, color=\"g\", scatter_kws={\"alpha\": 0.3})\n",
    "plt.xlabel(\"True Values\")\n",
    "plt.ylabel(\"Predictions\")\n",
    "plt.axis(\"equal\")"
   ]
  }
 ],
 "metadata": {
  "kernelspec": {
   "display_name": "Python 3",
   "language": "python",
   "name": "python3"
  },
  "language_info": {
   "codemirror_mode": {
    "name": "ipython",
    "version": 3
   },
   "file_extension": ".py",
   "mimetype": "text/x-python",
   "name": "python",
   "nbconvert_exporter": "python",
   "pygments_lexer": "ipython3",
   "version": "3.8.0"
  }
 },
 "nbformat": 4,
 "nbformat_minor": 5
}
